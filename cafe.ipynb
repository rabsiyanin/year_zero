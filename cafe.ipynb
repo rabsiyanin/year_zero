{
  "nbformat": 4,
  "nbformat_minor": 0,
  "metadata": {
    "colab": {
      "name": "cafe.ipynb",
      "provenance": [],
      "collapsed_sections": []
    },
    "kernelspec": {
      "display_name": "Python 3",
      "name": "python3"
    }
  },
  "cells": [
    {
      "cell_type": "markdown",
      "metadata": {
        "id": "zy81vwbWHEVx"
      },
      "source": [
        "#Кафетерий"
      ]
    },
    {
      "cell_type": "markdown",
      "metadata": {
        "id": "2ES_FUkPHaHW"
      },
      "source": [
        "##Загрузка данных\n",
        "\n",
        "\n"
      ]
    },
    {
      "cell_type": "code",
      "metadata": {
        "colab": {
          "base_uri": "https://localhost:8080/"
        },
        "id": "IXF0_gNCRH08",
        "outputId": "a73cb72e-29b9-4c2b-8dad-0fd2cd1b10bf"
      },
      "source": [
        "\n",
        "'''Подготовка таблицы'''\n",
        "!date\n",
        "!pip -V\n",
        "!pwd\n",
        "import os\n",
        "os.getcwd()\n",
        "from google.colab import drive\n",
        "drive.mount('/content/drive')\n",
        "!pip install --upgrade gspread\n",
        "from google.colab import auth\n",
        "auth.authenticate_user()\n",
        "\n",
        "import gspread\n",
        "from oauth2client.client import GoogleCredentials\n",
        "gc = gspread.authorize(GoogleCredentials.get_application_default())\n",
        "table = gc.open_by_key('1zXgcbWX2IYBOjEgJ0jGNg4WvUHWDhSZAo3y-XzPV-zQ')\n",
        "print(table.worksheets())\n",
        "print (dir(table))"
      ],
      "execution_count": null,
      "outputs": [
        {
          "output_type": "stream",
          "text": [
            "Wed May 19 08:01:12 UTC 2021\n",
            "pip 19.3.1 from /usr/local/lib/python3.7/dist-packages/pip (python 3.7)\n",
            "/content\n",
            "Drive already mounted at /content/drive; to attempt to forcibly remount, call drive.mount(\"/content/drive\", force_remount=True).\n",
            "Requirement already up-to-date: gspread in /usr/local/lib/python3.7/dist-packages (3.7.0)\n",
            "Requirement already satisfied, skipping upgrade: google-auth-oauthlib>=0.4.1 in /usr/local/lib/python3.7/dist-packages (from gspread) (0.4.4)\n",
            "Requirement already satisfied, skipping upgrade: google-auth>=1.12.0 in /usr/local/lib/python3.7/dist-packages (from gspread) (1.30.0)\n",
            "Requirement already satisfied, skipping upgrade: requests-oauthlib>=0.7.0 in /usr/local/lib/python3.7/dist-packages (from google-auth-oauthlib>=0.4.1->gspread) (1.3.0)\n",
            "Requirement already satisfied, skipping upgrade: six>=1.9.0 in /usr/local/lib/python3.7/dist-packages (from google-auth>=1.12.0->gspread) (1.15.0)\n",
            "Requirement already satisfied, skipping upgrade: pyasn1-modules>=0.2.1 in /usr/local/lib/python3.7/dist-packages (from google-auth>=1.12.0->gspread) (0.2.8)\n",
            "Requirement already satisfied, skipping upgrade: cachetools<5.0,>=2.0.0 in /usr/local/lib/python3.7/dist-packages (from google-auth>=1.12.0->gspread) (4.2.2)\n",
            "Requirement already satisfied, skipping upgrade: rsa<5,>=3.1.4; python_version >= \"3.6\" in /usr/local/lib/python3.7/dist-packages (from google-auth>=1.12.0->gspread) (4.7.2)\n",
            "Requirement already satisfied, skipping upgrade: setuptools>=40.3.0 in /usr/local/lib/python3.7/dist-packages (from google-auth>=1.12.0->gspread) (56.1.0)\n",
            "Requirement already satisfied, skipping upgrade: oauthlib>=3.0.0 in /usr/local/lib/python3.7/dist-packages (from requests-oauthlib>=0.7.0->google-auth-oauthlib>=0.4.1->gspread) (3.1.0)\n",
            "Requirement already satisfied, skipping upgrade: requests>=2.0.0 in /usr/local/lib/python3.7/dist-packages (from requests-oauthlib>=0.7.0->google-auth-oauthlib>=0.4.1->gspread) (2.23.0)\n",
            "Requirement already satisfied, skipping upgrade: pyasn1<0.5.0,>=0.4.6 in /usr/local/lib/python3.7/dist-packages (from pyasn1-modules>=0.2.1->google-auth>=1.12.0->gspread) (0.4.8)\n",
            "Requirement already satisfied, skipping upgrade: idna<3,>=2.5 in /usr/local/lib/python3.7/dist-packages (from requests>=2.0.0->requests-oauthlib>=0.7.0->google-auth-oauthlib>=0.4.1->gspread) (2.10)\n",
            "Requirement already satisfied, skipping upgrade: urllib3!=1.25.0,!=1.25.1,<1.26,>=1.21.1 in /usr/local/lib/python3.7/dist-packages (from requests>=2.0.0->requests-oauthlib>=0.7.0->google-auth-oauthlib>=0.4.1->gspread) (1.24.3)\n",
            "Requirement already satisfied, skipping upgrade: chardet<4,>=3.0.2 in /usr/local/lib/python3.7/dist-packages (from requests>=2.0.0->requests-oauthlib>=0.7.0->google-auth-oauthlib>=0.4.1->gspread) (3.0.4)\n",
            "Requirement already satisfied, skipping upgrade: certifi>=2017.4.17 in /usr/local/lib/python3.7/dist-packages (from requests>=2.0.0->requests-oauthlib>=0.7.0->google-auth-oauthlib>=0.4.1->gspread) (2020.12.5)\n",
            "[<Worksheet 'Income Planned' id:421670937>, <Worksheet 'SalaryInsurance' id:190018018>, <Worksheet 'FixedAssets' id:730720000>, <Worksheet 'CapitalСredit' id:2127266000>, <Worksheet 'Aside Prices' id:921323602>, <Worksheet 'Expenses' id:554214749>, <Worksheet 'Raw' id:1092156811>, <Worksheet 'Credits' id:1788868270>, <Worksheet 'Diagram' id:556306020>]\n",
            "['__class__', '__delattr__', '__dict__', '__dir__', '__doc__', '__eq__', '__format__', '__ge__', '__getattribute__', '__gt__', '__hash__', '__init__', '__init_subclass__', '__iter__', '__le__', '__lt__', '__module__', '__ne__', '__new__', '__reduce__', '__reduce_ex__', '__repr__', '__setattr__', '__sizeof__', '__str__', '__subclasshook__', '__weakref__', '_properties', '_spreadsheets_get', '_spreadsheets_sheets_copy_to', 'add_worksheet', 'batch_update', 'client', 'del_worksheet', 'duplicate_sheet', 'fetch_sheet_metadata', 'get_worksheet', 'id', 'list_permissions', 'remove_permissions', 'reorder_worksheets', 'share', 'sheet1', 'title', 'updated', 'url', 'values_append', 'values_batch_get', 'values_batch_update', 'values_clear', 'values_get', 'values_update', 'worksheet', 'worksheets']\n"
          ],
          "name": "stdout"
        }
      ]
    },
    {
      "cell_type": "markdown",
      "metadata": {
        "id": "FfNnzbnTJHHX"
      },
      "source": [
        "##Прибыль\n"
      ]
    },
    {
      "cell_type": "code",
      "metadata": {
        "colab": {
          "base_uri": "https://localhost:8080/"
        },
        "id": "PbFfl6MM0WmR",
        "outputId": "4c75160f-0ab5-4b4b-d9a7-88481e9d1208"
      },
      "source": [
        "'''Используем упрощеную систему налогооложения'''\n",
        "'''--------------------------------------------'''\n",
        "'''Планируемые доходы'''\n",
        "worksheet = table.worksheet(\"Income Planned\")\n",
        "rows = worksheet.get_all_values()\n",
        "#print(rows)\n",
        "name = list()\n",
        "price = list()\n",
        "count = list()\n",
        "value = list()\n",
        "value_sh = list()\n",
        "value_raw = list()\n",
        "i=0\n",
        "for row in rows:\n",
        "  if(i>3):\n",
        "    print (i, row)\n",
        "    name.append(row[0])\n",
        "    price.append(float(row[2]))\n",
        "    count.append(int(row[3]))\n",
        "    value.append(float(row[2])*int(row[3]))\n",
        "    value_raw = list()\n",
        "    value_raw.append(float(row[2])*int(row[3]))\n",
        "    value_sh.append(value_raw)\n",
        "  # print(value_raw, value_sh)\n",
        "  i+=1\n",
        "print(value_sh)\n",
        "worksheet.update('E5:E100', value_sh)\n",
        "print('\\nworksheet.get_all_values()',worksheet.get_all_values())\n",
        "print('\\n',name, price, count, value, sep='\\n', end='\\n\\n')\n",
        "proceeds = sum(value)\n",
        "print('Планируемые доходы в год составят:', proceeds)\n",
        "print('Планируемые доходы в месяц составят:', proceeds // 12)"
      ],
      "execution_count": null,
      "outputs": [
        {
          "output_type": "stream",
          "text": [
            "4 ['Пирог', 'руб/услуга', '350', '600', '210000']\n",
            "5 ['Пироженое', 'руб/услуга', '60', '14600', '876000']\n",
            "6 ['Торт(на заказ)', 'руб/услуга', '950', '400', '380000']\n",
            "7 ['Печенье', 'руб/услуга', '40', '7300', '292000']\n",
            "8 ['Сладкая выпечка', 'руб/услуга', '80', '14600', '1168000']\n",
            "9 ['Хлеб', 'руб/услуга', '50', '3650', '182500']\n",
            "10 ['Кофе', 'руб/услуга', '100', '3650', '365000']\n",
            "11 ['Чай', 'руб/услуга', '150', '10950', '1642500']\n",
            "12 ['Молочный коктейль', 'руб/услуга', '100', '730', '73000']\n",
            "13 ['Соки', 'руб/услуга', '170', '1460', '248200']\n",
            "14 ['Вода', 'руб/услуга', '100', '1825', '182500']\n",
            "[[210000.0], [876000.0], [380000.0], [292000.0], [1168000.0], [182500.0], [365000.0], [1642500.0], [73000.0], [248200.0], [182500.0]]\n",
            "\n",
            "worksheet.get_all_values() [['Таблица . Плановые доходы (для целей налогообложения)', '', '', '', ''], ['', '', '', '', ''], ['', '', '', '', ''], ['Наименование услуги', 'Единицы измерения', 'Цена', 'Количество за год', 'Выручка'], ['Пирог', 'руб/услуга', '350', '600', '210000'], ['Пироженое', 'руб/услуга', '60', '14600', '876000'], ['Торт(на заказ)', 'руб/услуга', '950', '400', '380000'], ['Печенье', 'руб/услуга', '40', '7300', '292000'], ['Сладкая выпечка', 'руб/услуга', '80', '14600', '1168000'], ['Хлеб', 'руб/услуга', '50', '3650', '182500'], ['Кофе', 'руб/услуга', '100', '3650', '365000'], ['Чай', 'руб/услуга', '150', '10950', '1642500'], ['Молочный коктейль', 'руб/услуга', '100', '730', '73000'], ['Соки', 'руб/услуга', '170', '1460', '248200'], ['Вода', 'руб/услуга', '100', '1825', '182500']]\n",
            "\n",
            "\n",
            "['Пирог', 'Пироженое', 'Торт(на заказ)', 'Печенье', 'Сладкая выпечка', 'Хлеб', 'Кофе', 'Чай', 'Молочный коктейль', 'Соки', 'Вода']\n",
            "[350.0, 60.0, 950.0, 40.0, 80.0, 50.0, 100.0, 150.0, 100.0, 170.0, 100.0]\n",
            "[600, 14600, 400, 7300, 14600, 3650, 3650, 10950, 730, 1460, 1825]\n",
            "[210000.0, 876000.0, 380000.0, 292000.0, 1168000.0, 182500.0, 365000.0, 1642500.0, 73000.0, 248200.0, 182500.0]\n",
            "\n",
            "Планируемые доходы в год составят: 5619700.0\n",
            "Планируемые доходы в месяц составят: 468308.0\n"
          ],
          "name": "stdout"
        }
      ]
    },
    {
      "cell_type": "code",
      "metadata": {
        "colab": {
          "base_uri": "https://localhost:8080/",
          "height": 595
        },
        "id": "6BbcL0wHl7ND",
        "outputId": "113af9c6-d942-4a84-b6ca-5aa2ba7148e5"
      },
      "source": [
        "import numpy as np\n",
        "from matplotlib import pyplot as plt\n",
        "\n",
        "'''Используем упрощеную систему налогооложения'''\n",
        "'''--------------------------------------------'''\n",
        "'''Планируемые доходы'''\n",
        "worksheet = table.worksheet(\"Diagram\")\n",
        "rows = worksheet.get_all_values()\n",
        "print(rows)\n",
        "i=0\n",
        "for row in rows:\n",
        "  if(i>2):\n",
        "    print (i, row)\n",
        "    name.append(row[0])\n",
        "  i+=1\n",
        "print('\\n',name, price, sep='\\n', end='\\n\\n')\n",
        "name = list()\n",
        "price = list()\n",
        "x = name\n",
        "ys = price\n",
        "print(x,ys)\n",
        "fig = plt.figure(figsize=(7,5),dpi=70)\n",
        "#fig.legend(title = \"Рис.1. Зависимость прибыли от величины кредита\", title_fontsize=16, loc='lower center', loc )\n",
        "#plt.title(label='Рис.1. Зависимость прибыли от величины кредита', fontsize= 18, horizontalalignment='center')\n",
        "plt.plot(x,ys, 'g*--', label='line1', linewidth=1, markersize=3)\n",
        "plt.plot([1, 2, 3], [1, 4, 9], 'ro-', label='line2', linewidth=1, markersize=3)\n",
        "plt.xticks(fontsize=14)\n",
        "plt.xlabel('Величина кредита, руб',fontsize=14)\n",
        "plt.yticks(fontsize=14)\n",
        "plt.ylabel('Чистая прибыль, руб', fontsize=14)\n",
        "plt.grid()\n",
        "plt.legend(fontsize=14)\n",
        "#plt.fill_between(x, ys, 7, where=(ys > 6.5), facecolor='g', alpha=0.6)\n",
        "plt.show()\n",
        "#fig.savefig('/content/sample_data/scatter.png')\n",
        "#%ll -lAF /content/sample_data/\n",
        "%ll -lAF  /content/drive/MyDrive/'Colab Notebooks'/plot\n",
        "!date\n"
      ],
      "execution_count": null,
      "outputs": [
        {
          "output_type": "stream",
          "text": [
            "[['', ''], ['', ''], ['', ''], ['1', '100'], ['2', '110'], ['3', '120'], ['4', '130'], ['5', '140'], ['6', '150']]\n",
            "3 ['1', '100']\n",
            "4 ['2', '110']\n",
            "5 ['3', '120']\n",
            "6 ['4', '130']\n",
            "7 ['5', '140']\n",
            "8 ['6', '150']\n",
            "\n",
            "\n",
            "['1', '2', '3', '4', '5', '6']\n",
            "[]\n",
            "\n",
            "[] []\n"
          ],
          "name": "stdout"
        },
        {
          "output_type": "display_data",
          "data": {
            "image/png": "[encoded data removed]",
            "text/plain": [
              "<Figure size 490x350 with 1 Axes>"
            ]
          },
          "metadata": {
            "tags": []
          }
        },
        {
          "output_type": "stream",
          "text": [
            "total 0\n",
            "Sun May  2 09:54:02 UTC 2021\n"
          ],
          "name": "stdout"
        }
      ]
    },
    {
      "cell_type": "markdown",
      "metadata": {
        "id": "krcQCg1CJZ3v"
      },
      "source": [
        "##Затраты"
      ]
    },
    {
      "cell_type": "code",
      "metadata": {
        "colab": {
          "base_uri": "https://localhost:8080/"
        },
        "id": "AaP9eT_oyH4z",
        "outputId": "1e1de94e-9fab-42f9-82e5-fbc2c8b3f501"
      },
      "source": [
        "'''Планируемая зарплата и страховые взносы'''\n",
        "worksheet = table.worksheet(\"SalaryInsurance\")\n",
        "rows = worksheet.get_all_values()\n",
        "#print(rows)\n",
        "name = list()\n",
        "permanent_salary = list()\n",
        "percentage_of_revenue = list()\n",
        "insurance= list()\n",
        "i = 0 \n",
        "for row in rows:\n",
        "  if(i>2):\n",
        "    print (i, row)\n",
        "    name.append(row[0])\n",
        "    permanent_salary.append(float(row[1]))\n",
        "    percentage_of_revenue.append(float(row[2]))\n",
        "    insurance.append(float(row[3]))\n",
        "  i+=1\n",
        "print('\\n', name, permanent_salary, percentage_of_revenue, insurance, sep='\\n', end='\\n\\n')\n",
        "print('Выручка: ',proceeds)\n",
        "all_permanent_salary = 12 *sum(permanent_salary)\n",
        "print('Постоянная составляющая зарплаты:', all_permanent_salary) \n",
        "all_variable_salary =  proceeds*(sum(percentage_of_revenue))/100\n",
        "print('Переменная составляющая зарплаты', all_variable_salary)\n",
        "all_salary = all_permanent_salary + all_variable_salary \n",
        "print('Зарплата (постоянная + переменная), в тч НДФЛ: ', all_salary)\n",
        "insurance = insurance[0]*all_salary/100\n",
        "print('Страховые взносы', insurance)\n",
        "personnel_costs = all_salary + insurance\n",
        "print('Планируемая зарплата и страховые взносы:', personnel_costs)\n"
      ],
      "execution_count": null,
      "outputs": [
        {
          "output_type": "stream",
          "text": [
            "3 ['Директор', '32850', '1', '30', '13']\n",
            "4 ['Кондитер', '30450', '5', '30', '13']\n",
            "5 ['Официант', '21750', '0.5', '30', '13']\n",
            "6 ['Уборщица', '16530', '0.5', '30', '13']\n",
            "\n",
            "\n",
            "['Директор', 'Кондитер', 'Официант', 'Уборщица']\n",
            "[32850.0, 30450.0, 21750.0, 16530.0]\n",
            "[1.0, 5.0, 0.5, 0.5]\n",
            "[30.0, 30.0, 30.0, 30.0]\n",
            "\n",
            "Выручка:  5619700.0\n",
            "Постоянная составляющая зарплаты: 1218960.0\n",
            "Переменная составляющая зарплаты 393379.0\n",
            "Зарплата (постоянная + переменная), в тч НДФЛ:  1612339.0\n",
            "Страховые взносы 483701.7\n",
            "Планируемая зарплата и страховые взносы: 2096040.7\n"
          ],
          "name": "stdout"
        }
      ]
    },
    {
      "cell_type": "code",
      "metadata": {
        "colab": {
          "base_uri": "https://localhost:8080/"
        },
        "id": "09OEn7ErPzRY",
        "outputId": "297a5bfc-e69b-47b3-dfeb-887b4f40b085"
      },
      "source": [
        "'''Основные средства'''\n",
        "worksheet = table.worksheet(\"FixedAssets\")\n",
        "rows = worksheet.get_all_values()\n",
        "#print(rows)\n",
        "name = list()\n",
        "price = list()\n",
        "count = list()\n",
        "value = list()\n",
        "i=0\n",
        "for row in rows:\n",
        "  if(i>3):\n",
        "    print (i, row)\n",
        "    name.append(row[1])\n",
        "    price.append(float(row[2]))\n",
        "    count.append(int(row[3]))\n",
        "    value.append(float(row[2])*int(row[3]))\n",
        "  i+=1\n",
        "print('\\n', name, price, count, value, sep='\\n', end='\\n\\n')\n",
        "FixedAssets_Cost = sum(value)\n",
        "print('Основные средства:', FixedAssets_Cost)"
      ],
      "execution_count": null,
      "outputs": [
        {
          "output_type": "stream",
          "text": [
            "4 ['кондитерский цех', 'Печь пекарская ХПЭ-750/500.11 нержавейка', '44000', '2']\n",
            "5 ['кондитерский цех/кладовая готовой продукции', 'Скалка с вращающимися ручками 300х60 мм, липа', '374', '3']\n",
            "6 ['кондитерский цех', 'Шкаф расстойный АРГО 30', '21774', '1']\n",
            "7 ['кондитерский цех', 'Гриль-вафельница WB-01 JEJU', '10000', '2']\n",
            "8 ['тopгoвый и бaнкeтный зaл', 'Витрина кондитерская OCTAVA K 1200', '70000', '3']\n",
            "9 ['кондитерский цех', 'Машина посудомоечная фронтальная АВАТ МПК-500Ф', '114000', '1']\n",
            "10 ['тopгoвый и бaнкeтный зaл', 'Стол и стулья', '13000', '5']\n",
            "11 ['кондитерский цех', 'Тестомес ERGO HS20', '55888', '1']\n",
            "12 ['помещение для персонала', 'Шкаф для одежды', '11500', '1']\n",
            "\n",
            "\n",
            "['Печь пекарская ХПЭ-750/500.11 нержавейка', 'Скалка с вращающимися ручками 300х60 мм, липа', 'Шкаф расстойный АРГО 30', 'Гриль-вафельница WB-01 JEJU', 'Витрина кондитерская OCTAVA K 1200', 'Машина посудомоечная фронтальная АВАТ МПК-500Ф', 'Стол и стулья', 'Тестомес ERGO HS20', 'Шкаф для одежды']\n",
            "[44000.0, 374.0, 21774.0, 10000.0, 70000.0, 114000.0, 13000.0, 55888.0, 11500.0]\n",
            "[2, 3, 1, 2, 3, 1, 5, 1, 1]\n",
            "[88000.0, 1122.0, 21774.0, 20000.0, 210000.0, 114000.0, 65000.0, 55888.0, 11500.0]\n",
            "\n",
            "Основные средства: 587284.0\n"
          ],
          "name": "stdout"
        }
      ]
    },
    {
      "cell_type": "code",
      "metadata": {
        "colab": {
          "base_uri": "https://localhost:8080/"
        },
        "id": "DqW0VKP9ZjnO",
        "outputId": "4f6b8982-1b04-406d-c18e-352ceddc62b8"
      },
      "source": [
        "'''Уставной капитал, кредит'''\n",
        "worksheet = table.worksheet(\"CapitalСredit\")\n",
        "rows = worksheet.get_all_values()\n",
        "#print(rows)\n",
        "name = list()\n",
        "value = list()\n",
        "i=0\n",
        "for row in rows:\n",
        "  if(i>3):\n",
        "    print (i, row)\n",
        "    name.append(row[0])\n",
        "    value.append(float(row[1]))\n",
        "  i+=1\n",
        "capital = value[0]\n",
        "print(name[0], capital)\n",
        "credit = value[1]\n",
        "print(name[1], credit)\n",
        "percent = value[2]\n",
        "print(name[2], percent)\n",
        "cost_of_credit = credit*percent/100\n",
        "print('Годовая стоимость кредита составит: ',cost_of_credit)\n"
      ],
      "execution_count": null,
      "outputs": [
        {
          "output_type": "stream",
          "text": [
            "4 ['Уставной капитал, руб', '100000']\n",
            "5 ['Величина кредита, руб', '700000']\n",
            "6 ['Годовая процентная ставка, %', '11']\n",
            "Уставной капитал, руб 100000.0\n",
            "Величина кредита, руб 700000.0\n",
            "Годовая процентная ставка, % 11.0\n",
            "Годовая стоимость кредита составит:  77000.0\n"
          ],
          "name": "stdout"
        }
      ]
    },
    {
      "cell_type": "code",
      "metadata": {
        "colab": {
          "base_uri": "https://localhost:8080/"
        },
        "id": "02toa3_Gk8Yc",
        "outputId": "e3acba75-c842-4435-f12b-c5b854a69630"
      },
      "source": [
        "'''Текущие расходы'''\n",
        "worksheet = table.worksheet(\"Expenses\")\n",
        "rows = worksheet.get_all_values()\n",
        "#print(rows)\n",
        "name = list()\n",
        "value = list()\n",
        "i=0\n",
        "for row in rows:\n",
        "  if(i>0) and (i<8):\n",
        "    print (i, row)\n",
        "    name.append(row[0])\n",
        "    value.append(float(row[1]))\n",
        "  i+=1\n",
        "current_expensis = sum(value)\n",
        "print('Текущие расходы в течение года: : ', current_expensis)\n",
        "print('Текущие расходы в течение месяца: : ', current_expensis//12)"
      ],
      "execution_count": null,
      "outputs": [
        {
          "output_type": "stream",
          "text": [
            "1 ['Аренда помещения', '200000', '', 'https://nn.cian.ru/rent/commercial/255142391/']\n",
            "2 ['Коммунальные платежи', '60000', '', 'см. ниже']\n",
            "3 ['Сырьё для продукции', '46080', '', 'см. лист \"Сырьё\"']\n",
            "4 ['Сигнализация', '14000', '', 'https://www.delta.ru/ohrana-restoranov/']\n",
            "5 ['Реклама', '15000', 'размещение на 100 стендов', 'https://www.ra-most.ru/stendy-v-podezdah/']\n",
            "6 ['Обслуживание сайта', '160', '', 'https://fozzy.com/ru/ecommerce.shtml#steps']\n",
            "7 ['Банковское обслуживание', '3500', 'Счёт \"ВЭД без границ\"', 'https://www.sberbank.ru/ru/s_m_business/open-accounts']\n",
            "Текущие расходы в течение года: :  338740.0\n",
            "Текущие расходы в течение месяца: :  28228.0\n"
          ],
          "name": "stdout"
        }
      ]
    },
    {
      "cell_type": "markdown",
      "metadata": {
        "id": "a60GJH_8Jh13"
      },
      "source": [
        "##Налоги и доход"
      ]
    },
    {
      "cell_type": "code",
      "metadata": {
        "colab": {
          "base_uri": "https://localhost:8080/"
        },
        "id": "4mKBS-GrnW-z",
        "outputId": "87b99d96-3596-47dd-b31a-3c8cdb7dd9de"
      },
      "source": [
        "'''Налоги и прибыль'''\n",
        "print('Планируемые доходы составят:', proceeds)\n",
        "print('Затраты на зарплату в том числе страховые взносы  составят :', personnel_costs)\n",
        "print('Стоимость основных средств составит:', FixedAssets_Cost)\n",
        "print('Годовая стоимость кредита составит: ',cost_of_credit)\n",
        "print('Текущие расходы в течение года: ',current_expensis)\n",
        "incom_expenses = proceeds - personnel_costs - FixedAssets_Cost - cost_of_credit - current_expensis\n",
        "print('Доходы - Расходы:', incom_expenses)\n",
        "income_tax = 15 # налог на прибыль, %\n",
        "value_of_income_tax = income_tax * incom_expenses / 100.\n",
        "print ('Налог  на прибыль составит: ', value_of_income_tax )\n",
        "print ('Чистая прибыль составит : ', incom_expenses - value_of_income_tax )"
      ],
      "execution_count": null,
      "outputs": [
        {
          "output_type": "stream",
          "text": [
            "Планируемые доходы составят: 5619700.0\n",
            "Затраты на зарплату в том числе страховые взносы  составят : 2096040.7\n",
            "Стоимость основных средств составит: 587284.0\n",
            "Годовая стоимость кредита составит:  77000.0\n",
            "Текущие расходы в течение года:  345000.0\n",
            "Доходы - Расходы: 2514375.3\n",
            "Налог  на прибыль составит:  377156.295\n",
            "Чистая прибыль составит :  2137219.005\n"
          ],
          "name": "stdout"
        }
      ]
    }
  ]
}