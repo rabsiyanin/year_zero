{
  "nbformat": 4,
  "nbformat_minor": 0,
  "metadata": {
    "colab": {
      "name": "kafe_colab.ipynb",
      "provenance": [],
      "collapsed_sections": [],
      "history_visible": true
    },
    "kernelspec": {
      "name": "python3",
      "display_name": "Python 3"
    }
  },
  "cells": [
    {
      "cell_type": "code",
      "metadata": {
        "colab": {
          "base_uri": "https://localhost:8080/"
        },
        "id": "wwJmVddhc00_",
        "outputId": "5ac2a6be-843f-4fd4-9e34-340c79ebcfb1"
      },
      "source": [
        "print('Группа: 20БИ-3')\r\n",
        "print('ФИО: Игнатов Георгий Станиславович')\r\n",
        "!ln -fs /usr/share/zoneinfo/Europe/Moscow /etc/localtime\r\n",
        "!date"
      ],
      "execution_count": null,
      "outputs": [
        {
          "output_type": "stream",
          "text": [
            "Группа: 20БИ-3\n",
            "ФИО: Игнатов Георгий Станиславович\n",
            "Thu Mar  4 16:12:05 MSK 2021\n"
          ],
          "name": "stdout"
        }
      ]
    },
    {
      "cell_type": "code",
      "metadata": {
        "colab": {
          "base_uri": "https://localhost:8080/"
        },
        "id": "GkiUg04ig6wM",
        "outputId": "edf6749f-179a-4e01-84ca-fb466dbcfc2d"
      },
      "source": [
        "from google.colab import drive\r\n",
        "drive.mount('/content/drive/')\r\n",
        "import os\r\n",
        "print(os.getcwd())\r\n",
        "print(os.listdir('./'))\r\n",
        "print(os.listdir('/content/drive'))\r\n",
        "print(os.listdir('/content/drive/MyDrive/'))"
      ],
      "execution_count": 6,
      "outputs": [
        {
          "output_type": "stream",
          "text": [
            "Mounted at /content/drive/\n",
            "/content\n",
            "['.config', 'adc.json', 'drive', 'sample_data']\n",
            "['MyDrive', '.shortcut-targets-by-id', '.file-revisions-by-id', '.Trash']\n",
            "['Colab Notebooks', 'Список студентов, не явившихся на контрольную работу 11.11.2020.gsheet', 'filename.txt', 'Новая таблица.gsheet', 'rashodi.xlsx', 'rashodi.gsheet', 'cafe.ipynb', 'Без названия', 'graph.png', 'KAFE.gsheet', 'doc2 (2).jpg', 'kafe_colab.ipynb']\n"
          ],
          "name": "stdout"
        }
      ]
    },
    {
      "cell_type": "code",
      "metadata": {
        "colab": {
          "base_uri": "https://localhost:8080/"
        },
        "id": "neS4yH7Ug7BK",
        "outputId": "7cb3b6c9-b87f-4de1-ffd3-752eb4956731"
      },
      "source": [
        "import os\r\n",
        "import time\r\n",
        "from google.colab import auth\r\n",
        "auth.authenticate_user()\r\n",
        "!pip install --upgrade gspread\r\n",
        "import gspread\r\n",
        "from oauth2client.client import GoogleCredentials\r\n",
        "print('\\nРАБОТА С ТАБЛИЦЕЙ')\r\n",
        "%ll -lAF /content/drive/MyDrive/\r\n",
        "gs = gspread.authorize(GoogleCredentials.get_application_default())\r\n",
        "os.stat('/content/drive/MyDrive/KAFE.gsheet')\r\n",
        "table = gs.open_by_key('1ATyf3d7y5G0Tszxfas7CnOkQnN3BA6TZagRPuiP_i64')\r\n",
        "print(dir(table))\r\n",
        "worksheet = table.worksheet('kafe')\r\n",
        "rows = worksheet.get_all_values()\r\n",
        "print(rows)\r\n",
        "strength = [0] * 6\r\n",
        "s = 0\r\n",
        "weakness = [0] * 6\r\n",
        "w = 0\r\n",
        "opportunities = [0] * 6\r\n",
        "o = 0\r\n",
        "threats = [0] * 6\r\n",
        "t = 0\r\n",
        "flag = 'strength'\r\n",
        "for i in rows:\r\n",
        "  if i[0] == 'strength':\r\n",
        "    flag = 'strength'\r\n",
        "  if i[0] == 'weakness':\r\n",
        "    flag = 'weakness'\r\n",
        "  if i[0] == 'opportunities':\r\n",
        "    flag = 'opportunities'\r\n",
        "  if i[0] == 'threats':\r\n",
        "    flag = 'threats'\r\n",
        "  if flag == 'strength' and i[4] != '' and i[4] != 'power':\r\n",
        "    strength[s] = i[4]\r\n",
        "    s = s + 1\r\n",
        "  if flag == 'opportunities' and i[4] != '' and i[4] != 'power':\r\n",
        "    opportunities[o] = i[4]\r\n",
        "    o = o + 1\r\n",
        "  if flag == 'weakness' and i[4] != '' and i[4] != 'power':\r\n",
        "    weakness[w] = i[4]\r\n",
        "    w = w + 1\r\n",
        "  if flag == 'threats' and i[4] != '' and i[4] != 'power':\r\n",
        "    threats[t] = i[4]\r\n",
        "    t = t + 1\r\n",
        "print(strength)\r\n",
        "print(opportunities)\r\n",
        "print(weakness)\r\n",
        "print(threats)\r\n",
        "sili = 0\r\n",
        "vozmozhnosti = 0\r\n",
        "slabosti = 0\r\n",
        "opasnosti = 0\r\n",
        "for i in strength:\r\n",
        "  sili = sili + float(i)\r\n",
        "for i in opportunities:\r\n",
        "  vozmozhnosti = vozmozhnosti + float(i)\r\n",
        "for i in weakness:\r\n",
        "  slabosti = slabosti + float(i)\r\n",
        "for i in threats:\r\n",
        "  opasnosti = opasnosti + float(i)\r\n",
        "worksheet.update('A43', 'strength ' + str(sili))\r\n",
        "worksheet.update('B43', 'weakness ' + str(slabosti))\r\n",
        "worksheet.update('C43', 'opportunities ' + str(vozmozhnosti))\r\n",
        "worksheet.update('D43', 'threats ' + str(opasnosti))\r\n",
        "worksheet.update('A44', 'sum power ' + str(sili + vozmozhnosti - slabosti - opasnosti))\r\n",
        "veroyatnosti = (sili + vozmozhnosti) / (sili + vozmozhnosti + slabosti + opasnosti)\r\n",
        "worksheet.update('B44', 'probability of good result ' + str(veroyatnosti))"
      ],
      "execution_count": 7,
      "outputs": [
        {
          "output_type": "stream",
          "text": [
            "Requirement already up-to-date: gspread in /usr/local/lib/python3.7/dist-packages (3.7.0)\n",
            "Requirement already satisfied, skipping upgrade: google-auth-oauthlib>=0.4.1 in /usr/local/lib/python3.7/dist-packages (from gspread) (0.4.2)\n",
            "Requirement already satisfied, skipping upgrade: google-auth>=1.12.0 in /usr/local/lib/python3.7/dist-packages (from gspread) (1.27.0)\n",
            "Requirement already satisfied, skipping upgrade: requests-oauthlib>=0.7.0 in /usr/local/lib/python3.7/dist-packages (from google-auth-oauthlib>=0.4.1->gspread) (1.3.0)\n",
            "Requirement already satisfied, skipping upgrade: setuptools>=40.3.0 in /usr/local/lib/python3.7/dist-packages (from google-auth>=1.12.0->gspread) (54.0.0)\n",
            "Requirement already satisfied, skipping upgrade: rsa<5,>=3.1.4; python_version >= \"3.6\" in /usr/local/lib/python3.7/dist-packages (from google-auth>=1.12.0->gspread) (4.7.2)\n",
            "Requirement already satisfied, skipping upgrade: cachetools<5.0,>=2.0.0 in /usr/local/lib/python3.7/dist-packages (from google-auth>=1.12.0->gspread) (4.2.1)\n",
            "Requirement already satisfied, skipping upgrade: six>=1.9.0 in /usr/local/lib/python3.7/dist-packages (from google-auth>=1.12.0->gspread) (1.15.0)\n",
            "Requirement already satisfied, skipping upgrade: pyasn1-modules>=0.2.1 in /usr/local/lib/python3.7/dist-packages (from google-auth>=1.12.0->gspread) (0.2.8)\n",
            "Requirement already satisfied, skipping upgrade: oauthlib>=3.0.0 in /usr/local/lib/python3.7/dist-packages (from requests-oauthlib>=0.7.0->google-auth-oauthlib>=0.4.1->gspread) (3.1.0)\n",
            "Requirement already satisfied, skipping upgrade: requests>=2.0.0 in /usr/local/lib/python3.7/dist-packages (from requests-oauthlib>=0.7.0->google-auth-oauthlib>=0.4.1->gspread) (2.23.0)\n",
            "Requirement already satisfied, skipping upgrade: pyasn1>=0.1.3 in /usr/local/lib/python3.7/dist-packages (from rsa<5,>=3.1.4; python_version >= \"3.6\"->google-auth>=1.12.0->gspread) (0.4.8)\n",
            "Requirement already satisfied, skipping upgrade: certifi>=2017.4.17 in /usr/local/lib/python3.7/dist-packages (from requests>=2.0.0->requests-oauthlib>=0.7.0->google-auth-oauthlib>=0.4.1->gspread) (2020.12.5)\n",
            "Requirement already satisfied, skipping upgrade: idna<3,>=2.5 in /usr/local/lib/python3.7/dist-packages (from requests>=2.0.0->requests-oauthlib>=0.7.0->google-auth-oauthlib>=0.4.1->gspread) (2.10)\n",
            "Requirement already satisfied, skipping upgrade: urllib3!=1.25.0,!=1.25.1,<1.26,>=1.21.1 in /usr/local/lib/python3.7/dist-packages (from requests>=2.0.0->requests-oauthlib>=0.7.0->google-auth-oauthlib>=0.4.1->gspread) (1.24.3)\n",
            "Requirement already satisfied, skipping upgrade: chardet<4,>=3.0.2 in /usr/local/lib/python3.7/dist-packages (from requests>=2.0.0->requests-oauthlib>=0.7.0->google-auth-oauthlib>=0.4.1->gspread) (3.0.4)\n",
            "\n",
            "РАБОТА С ТАБЛИЦЕЙ\n",
            "total 399\n",
            "-rw------- 1 root  53584 Feb 19 12:30  cafe.ipynb\n",
            "drwx------ 2 root   4096 Oct 30 11:20 \u001b[0m\u001b[01;34m'Colab Notebooks'\u001b[0m/\n",
            "-rw------- 1 root 283152 Mar  4 14:10 'doc2 (2).jpg'\n",
            "-rw------- 1 root      6 Nov 18 12:24  filename.txt\n",
            "-rw------- 1 root  12013 Mar  3 23:44  graph.png\n",
            "-rw------- 1 root  18812 Mar  4 16:34  kafe_colab.ipynb\n",
            "-rw------- 1 root    151 Mar  3 23:49  KAFE.gsheet\n",
            "-rw------- 1 root    151 Feb 19 12:20  rashodi.gsheet\n",
            "-rw------- 1 root  28781 Feb 19 10:54  rashodi.xlsx\n",
            "drwx------ 2 root   4096 Mar  3 22:59 \u001b[01;34m'Без названия'\u001b[0m/\n",
            "-rw------- 1 root    151 Feb 19 10:51 'Новая таблица.gsheet'\n",
            "-rw------- 1 root    151 Nov 17 22:24 'Список студентов, не явившихся на контрольную работу 11.11.2020.gsheet'\n",
            "['__class__', '__delattr__', '__dict__', '__dir__', '__doc__', '__eq__', '__format__', '__ge__', '__getattribute__', '__gt__', '__hash__', '__init__', '__init_subclass__', '__iter__', '__le__', '__lt__', '__module__', '__ne__', '__new__', '__reduce__', '__reduce_ex__', '__repr__', '__setattr__', '__sizeof__', '__str__', '__subclasshook__', '__weakref__', '_properties', '_spreadsheets_get', '_spreadsheets_sheets_copy_to', 'add_worksheet', 'batch_update', 'client', 'del_worksheet', 'duplicate_sheet', 'fetch_sheet_metadata', 'get_worksheet', 'id', 'list_permissions', 'remove_permissions', 'reorder_worksheets', 'share', 'sheet1', 'title', 'updated', 'url', 'values_append', 'values_batch_get', 'values_batch_update', 'values_clear', 'values_get', 'values_update', 'worksheet', 'worksheets']\n",
            "[['', '', 'КАФЕ', '', ''], ['', '', '', '', ''], ['strength', '', '', '', ''], ['name', 'actions', 'importance', 'probability', 'power'], ['предоставление помещений под мероприятия', 'увеличение охвата аудитории', '3', '0.90', '2.7'], ['возможность получения прибыли', 'совершенствование бизнес-модели', '10', '0.42', '4.2'], ['качество продукции', 'поставка свежих продуктов и наличие профессионального персонала', '6', '0.8', '4.8'], ['разнообразие меню', 'больший охват аудитории', '8', '1', '8'], ['удобное расположение', 'большее количество людей способны добраться до кафе ', '4', '1', '4'], ['', '', '', '', ''], ['', '', '', '', ''], ['', '', '', '', ''], ['weakness', '', '', '', ''], ['name', 'actions', 'importance', 'probability', 'power'], ['больничные персонала', 'уменьшение производительности труда', '7', '0.1', '0.7'], ['ухудшение системы налогооблажения', 'влияет на выручку и прибыль бизнеса', '5', '0.4', '2'], ['кража выручки', 'отсутствует при корректной системе контроля сотрудников', '8', '0.01', '0.08'], ['низкая информированность клиентов', 'повышение SMM-раскрутки', '3', '1', '3'], ['ухудшение отзывов неблагоприятными клиентами', 'отсутствует при своевременной реакции на происшествие', '3', '0.05', '0.15'], ['', '', '', '', ''], ['', '', '', '', ''], ['', '', '', '', ''], ['opportunities', '', '', '', ''], ['name ', 'actions', 'importance', 'probability', 'power'], ['увеличение стартового капитала', 'повышение качества инвентаря заведения', '10', '0.8', '8'], ['повышение SMM-активности', 'увеличение охвата', '3', '1', '3'], ['поиск лучших рецептур для блюд', 'повышение вкусовых качеств продукции', '5', '0.8', '4'], ['организация доставки', 'регистрация в системах доставки еды', '8', '0.99', '7.92'], ['найм юриста', 'улучшение бухучёта', '4', '0.55', '2.2'], ['расширение сети', 'постепенное развитие франшиз заведения', '2', '0.3', '0.6'], ['', '', '', '', ''], ['', '', '', '', ''], ['threats', '', '', '', ''], ['name', 'actions', 'importance', 'probability', 'power'], ['конкуренция', 'повышение качества продукции', '9', '0.5', '4.5'], ['текучка персонала', 'повышение оклада, совершенствование условий труда', '7', '0.7', '4.9'], ['наличие неадекватных клиентов', 'найм охраны и охранной техники', '4', '0.2', '0.8'], ['брак поставляемой пищи', 'анализ поставщиков', '10', '0.05', '0.5'], ['', '', '', '', ''], ['', '', '', '', ''], ['', '', '', '', ''], ['', '', '', '', ''], ['strength 23.7', 'weakness 5.930000000000001', 'opportunities 25.720000000000002', 'threats 10.700000000000001', ''], ['sum power 32.79', 'probability of good result 0.748221044663134', '', '', '']]\n",
            "['2.7', '4.2', '4.8', '8', '4', 0]\n",
            "['8', '3', '4', '7.92', '2.2', '0.6']\n",
            "['0.7', '2', '0.08', '3', '0.15', 0]\n",
            "['4.5', '4.9', '0.8', '0.5', 0, 0]\n"
          ],
          "name": "stdout"
        },
        {
          "output_type": "execute_result",
          "data": {
            "text/plain": [
              "{'spreadsheetId': '1ATyf3d7y5G0Tszxfas7CnOkQnN3BA6TZagRPuiP_i64',\n",
              " 'updatedCells': 1,\n",
              " 'updatedColumns': 1,\n",
              " 'updatedRange': 'kafe!B44',\n",
              " 'updatedRows': 1}"
            ]
          },
          "metadata": {
            "tags": []
          },
          "execution_count": 7
        }
      ]
    },
    {
      "cell_type": "code",
      "metadata": {
        "id": "JWI3WLX8MVOn",
        "colab": {
          "base_uri": "https://localhost:8080/",
          "height": 1000
        },
        "outputId": "7e256b6a-885c-4677-fbf2-12bef5926f44"
      },
      "source": [
        "import os\r\n",
        "import time\r\n",
        "from google.colab import auth\r\n",
        "auth.authenticate_user()\r\n",
        "!pip install --upgrade gspread\r\n",
        "import gspread\r\n",
        "from oauth2client.client import GoogleCredentials\r\n",
        "print('\\nТАБЛИЦА')\r\n",
        "%ll -lAF /content/drive/MyDrive/\r\n",
        "gs = gspread.authorize(GoogleCredentials.get_application_default())\r\n",
        "os.stat('/content/drive/MyDrive/KAFE.gsheet')\r\n",
        "table = gs.open_by_key('1ATyf3d7y5G0Tszxfas7CnOkQnN3BA6TZagRPuiP_i64')\r\n",
        "worksheet = table.worksheet('kafe')\r\n",
        "rows = worksheet.get_all_values()\r\n",
        "print(rows)\r\n",
        "strength = [0] * 6\r\n",
        "s = 0\r\n",
        "weakness = [0] * 6\r\n",
        "w = 0\r\n",
        "opportunities = [0] * 6\r\n",
        "o = 0\r\n",
        "threats = [0] * 6\r\n",
        "t = 0\r\n",
        "flag = 'strength'\r\n",
        "for i in rows:\r\n",
        "  if i[0] == 'strength':\r\n",
        "    flag = 'strength'\r\n",
        "  if i[0] == 'weakness':\r\n",
        "    flag = 'weakness'\r\n",
        "  if i[0] == 'opportunities':\r\n",
        "    flag = 'opportunities'\r\n",
        "  if i[0] == 'threats':\r\n",
        "    flag = 'threats'\r\n",
        "  if flag == 'strength' and i[4] != '' and i[4] != 'power':\r\n",
        "    strength[s] = i[4]\r\n",
        "    s = s + 1\r\n",
        "  if flag == 'opportunities' and i[4] != '' and i[4] != 'power':\r\n",
        "    opportunities[o] = i[4]\r\n",
        "    o = o + 1\r\n",
        "  if flag == 'weakness' and i[4] != '' and i[4] != 'power':\r\n",
        "    weakness[w] = i[4]\r\n",
        "    w = w + 1\r\n",
        "  if flag == 'threats' and i[4] != '' and i[4] != 'power':\r\n",
        "    threats[t] = i[4]\r\n",
        "    t = t + 1\r\n",
        "sili = 0\r\n",
        "vozmozhnosti = 0\r\n",
        "slabosti = 0\r\n",
        "ugrozi = 0\r\n",
        "for i in strength:\r\n",
        "  sili = sili + float(i)\r\n",
        "for i in opportunities:\r\n",
        "  vozmozhnosti = vozmozhnosti + float(i)\r\n",
        "for i in weakness:\r\n",
        "  slabosti = slabosti + float(i)\r\n",
        "for i in threats:\r\n",
        "  ugrozi = ugrozi + float(i)\r\n",
        "\r\n",
        "import matplotlib.pyplot as plt\r\n",
        "x=list()\r\n",
        "x_float=list()\r\n",
        "title=list()\r\n",
        "y_float=list()\r\n",
        "    \r\n",
        "title = [ \"strengths\", \"weaknesses\", \"opportunities\", \"threats\", \"result\"]\r\n",
        "x=title\r\n",
        "x_float = [1, 2, 3, 4, 5]\r\n",
        "result = sili - 1*slabosti + vozmozhnosti - 1*ugrozi\r\n",
        "y = [sili, slabosti, vozmozhnosti, ugrozi]\r\n",
        "y_float = [sili, -1*slabosti, vozmozhnosti, -1*ugrozi,  result]\r\n",
        "print(x_float,title,y_float)\r\n",
        "print('списки формированы-->\\n')\r\n",
        "x_pos=list()\r\n",
        "for i in range(x_float.__len__()):\r\n",
        "    x_pos.append(i)\r\n",
        "print('<!--разбивка по абсцисс и значения ординат\\n', len( x_float), x_pos, y_float, ' -->\\n')\r\n",
        "\r\n",
        "fig=plt.figure(figsize=(8,6), dpi=72)\r\n",
        "plt.bar(x_pos, y_float, width=0.75, align='edge', alpha=0.4)\r\n",
        "plt.xticks(x_pos,  x_float, fontsize=14)\r\n",
        "plt.xlabel('Обозначения1', fontsize=14)\r\n",
        "plt.ylabel('Мощность воздействия', fontsize=14)\r\n",
        "plt.title('SWOT', fontsize=14)\r\n",
        "plt.grid(True, color='r', linestyle='-', linewidth=2)\r\n",
        "#plt.draw()\r\n",
        "plt.show()\r\n",
        "fig.savefig(\"/content/drive/MyDrive/graph.png\")\r\n",
        "print('<div class=\"d-flex flex-row \">')\r\n",
        "print('<div class=\"card m-1\" style=\"width: 28rem;\">',\r\n",
        "      '<img  src=\"/content/drive/MyDrive/graph.png\" class=\"card-img-top\" alt=\"...\">',\r\n",
        "      '<div class=\"card-body\">')\r\n",
        "    \r\n",
        "for i in range(title.__len__()):\r\n",
        "    print(i+1, \" - \", title[i], \"; \")\r\n",
        "    i += 1\r\n",
        "print('</div>', '</div>')\r\n",
        "print('<div>')\r\n",
        "\r\n"
      ],
      "execution_count": 8,
      "outputs": [
        {
          "output_type": "stream",
          "text": [
            "Requirement already up-to-date: gspread in /usr/local/lib/python3.7/dist-packages (3.7.0)\n",
            "Requirement already satisfied, skipping upgrade: google-auth-oauthlib>=0.4.1 in /usr/local/lib/python3.7/dist-packages (from gspread) (0.4.2)\n",
            "Requirement already satisfied, skipping upgrade: google-auth>=1.12.0 in /usr/local/lib/python3.7/dist-packages (from gspread) (1.27.0)\n",
            "Requirement already satisfied, skipping upgrade: requests-oauthlib>=0.7.0 in /usr/local/lib/python3.7/dist-packages (from google-auth-oauthlib>=0.4.1->gspread) (1.3.0)\n",
            "Requirement already satisfied, skipping upgrade: six>=1.9.0 in /usr/local/lib/python3.7/dist-packages (from google-auth>=1.12.0->gspread) (1.15.0)\n",
            "Requirement already satisfied, skipping upgrade: setuptools>=40.3.0 in /usr/local/lib/python3.7/dist-packages (from google-auth>=1.12.0->gspread) (54.0.0)\n",
            "Requirement already satisfied, skipping upgrade: pyasn1-modules>=0.2.1 in /usr/local/lib/python3.7/dist-packages (from google-auth>=1.12.0->gspread) (0.2.8)\n",
            "Requirement already satisfied, skipping upgrade: cachetools<5.0,>=2.0.0 in /usr/local/lib/python3.7/dist-packages (from google-auth>=1.12.0->gspread) (4.2.1)\n",
            "Requirement already satisfied, skipping upgrade: rsa<5,>=3.1.4; python_version >= \"3.6\" in /usr/local/lib/python3.7/dist-packages (from google-auth>=1.12.0->gspread) (4.7.2)\n",
            "Requirement already satisfied, skipping upgrade: requests>=2.0.0 in /usr/local/lib/python3.7/dist-packages (from requests-oauthlib>=0.7.0->google-auth-oauthlib>=0.4.1->gspread) (2.23.0)\n",
            "Requirement already satisfied, skipping upgrade: oauthlib>=3.0.0 in /usr/local/lib/python3.7/dist-packages (from requests-oauthlib>=0.7.0->google-auth-oauthlib>=0.4.1->gspread) (3.1.0)\n",
            "Requirement already satisfied, skipping upgrade: pyasn1<0.5.0,>=0.4.6 in /usr/local/lib/python3.7/dist-packages (from pyasn1-modules>=0.2.1->google-auth>=1.12.0->gspread) (0.4.8)\n",
            "Requirement already satisfied, skipping upgrade: chardet<4,>=3.0.2 in /usr/local/lib/python3.7/dist-packages (from requests>=2.0.0->requests-oauthlib>=0.7.0->google-auth-oauthlib>=0.4.1->gspread) (3.0.4)\n",
            "Requirement already satisfied, skipping upgrade: urllib3!=1.25.0,!=1.25.1,<1.26,>=1.21.1 in /usr/local/lib/python3.7/dist-packages (from requests>=2.0.0->requests-oauthlib>=0.7.0->google-auth-oauthlib>=0.4.1->gspread) (1.24.3)\n",
            "Requirement already satisfied, skipping upgrade: certifi>=2017.4.17 in /usr/local/lib/python3.7/dist-packages (from requests>=2.0.0->requests-oauthlib>=0.7.0->google-auth-oauthlib>=0.4.1->gspread) (2020.12.5)\n",
            "Requirement already satisfied, skipping upgrade: idna<3,>=2.5 in /usr/local/lib/python3.7/dist-packages (from requests>=2.0.0->requests-oauthlib>=0.7.0->google-auth-oauthlib>=0.4.1->gspread) (2.10)\n",
            "\n",
            "ТАБЛИЦА\n",
            "total 399\n",
            "-rw------- 1 root  53584 Feb 19 12:30  cafe.ipynb\n",
            "drwx------ 2 root   4096 Oct 30 11:20 \u001b[0m\u001b[01;34m'Colab Notebooks'\u001b[0m/\n",
            "-rw------- 1 root 283152 Mar  4 14:10 'doc2 (2).jpg'\n",
            "-rw------- 1 root      6 Nov 18 12:24  filename.txt\n",
            "-rw------- 1 root  12013 Mar  3 23:44  graph.png\n",
            "-rw------- 1 root  18812 Mar  4 16:34  kafe_colab.ipynb\n",
            "-rw------- 1 root    151 Mar  4 16:36  KAFE.gsheet\n",
            "-rw------- 1 root    151 Feb 19 12:20  rashodi.gsheet\n",
            "-rw------- 1 root  28781 Feb 19 10:54  rashodi.xlsx\n",
            "drwx------ 2 root   4096 Mar  3 22:59 \u001b[01;34m'Без названия'\u001b[0m/\n",
            "-rw------- 1 root    151 Feb 19 10:51 'Новая таблица.gsheet'\n",
            "-rw------- 1 root    151 Nov 17 22:24 'Список студентов, не явившихся на контрольную работу 11.11.2020.gsheet'\n",
            "[['', '', 'КАФЕ', '', ''], ['', '', '', '', ''], ['strength', '', '', '', ''], ['name', 'actions', 'importance', 'probability', 'power'], ['предоставление помещений под мероприятия', 'увеличение охвата аудитории', '3', '0.90', '2.7'], ['возможность получения прибыли', 'совершенствование бизнес-модели', '10', '0.42', '4.2'], ['качество продукции', 'поставка свежих продуктов и наличие профессионального персонала', '6', '0.8', '4.8'], ['разнообразие меню', 'больший охват аудитории', '8', '1', '8'], ['удобное расположение', 'большее количество людей способны добраться до кафе ', '4', '1', '4'], ['', '', '', '', ''], ['', '', '', '', ''], ['', '', '', '', ''], ['weakness', '', '', '', ''], ['name', 'actions', 'importance', 'probability', 'power'], ['больничные персонала', 'уменьшение производительности труда', '7', '0.1', '0.7'], ['ухудшение системы налогооблажения', 'влияет на выручку и прибыль бизнеса', '5', '0.4', '2'], ['кража выручки', 'отсутствует при корректной системе контроля сотрудников', '8', '0.01', '0.08'], ['низкая информированность клиентов', 'повышение SMM-раскрутки', '3', '1', '3'], ['ухудшение отзывов неблагоприятными клиентами', 'отсутствует при своевременной реакции на происшествие', '3', '0.05', '0.15'], ['', '', '', '', ''], ['', '', '', '', ''], ['', '', '', '', ''], ['opportunities', '', '', '', ''], ['name ', 'actions', 'importance', 'probability', 'power'], ['увеличение стартового капитала', 'повышение качества инвентаря заведения', '10', '0.8', '8'], ['повышение SMM-активности', 'увеличение охвата', '3', '1', '3'], ['поиск лучших рецептур для блюд', 'повышение вкусовых качеств продукции', '5', '0.8', '4'], ['организация доставки', 'регистрация в системах доставки еды', '8', '0.99', '7.92'], ['найм юриста', 'улучшение бухучёта', '4', '0.55', '2.2'], ['расширение сети', 'постепенное развитие франшиз заведения', '2', '0.3', '0.6'], ['', '', '', '', ''], ['', '', '', '', ''], ['threats', '', '', '', ''], ['name', 'actions', 'importance', 'probability', 'power'], ['конкуренция', 'повышение качества продукции', '9', '0.5', '4.5'], ['текучка персонала', 'повышение оклада, совершенствование условий труда', '7', '0.7', '4.9'], ['наличие неадекватных клиентов', 'найм охраны и охранной техники', '4', '0.2', '0.8'], ['брак поставляемой пищи', 'анализ поставщиков', '10', '0.05', '0.5'], ['', '', '', '', ''], ['', '', '', '', ''], ['', '', '', '', ''], ['', '', '', '', ''], ['strength 23.7', 'weakness 5.930000000000001', 'opportunities 25.720000000000002', 'threats 10.700000000000001', ''], ['sum power 32.79', 'probability of good result 0.748221044663134', '', '', '']]\n",
            "[1, 2, 3, 4, 5] ['strengths', 'weaknesses', 'opportunities', 'threats', 'result'] [23.7, -5.930000000000001, 25.720000000000002, -10.700000000000001, 32.79]\n",
            "списки формированы-->\n",
            "\n",
            "<!--разбивка по абсцисс и значения ординат\n",
            " 5 [0, 1, 2, 3, 4] [23.7, -5.930000000000001, 25.720000000000002, -10.700000000000001, 32.79]  -->\n",
            "\n"
          ],
          "name": "stdout"
        },
        {
          "output_type": "display_data",
          "data": {
            "image/png": "[encoded data removed]",
            "text/plain": [
              "<Figure size 576x432 with 1 Axes>"
            ]
          },
          "metadata": {
            "tags": [],
            "needs_background": "light"
          }
        },
        {
          "output_type": "stream",
          "text": [
            "<div class=\"d-flex flex-row \">\n",
            "<div class=\"card m-1\" style=\"width: 28rem;\"> <img  src=\"/content/drive/MyDrive/graph.png\" class=\"card-img-top\" alt=\"...\"> <div class=\"card-body\">\n",
            "1  -  strengths ; \n",
            "2  -  weaknesses ; \n",
            "3  -  opportunities ; \n",
            "4  -  threats ; \n",
            "5  -  result ; \n",
            "</div> </div>\n",
            "<div>\n"
          ],
          "name": "stdout"
        }
      ]
    }
  ]
}